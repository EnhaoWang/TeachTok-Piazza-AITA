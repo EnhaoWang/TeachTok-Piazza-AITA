{
 "cells": [
  {
   "cell_type": "code",
   "execution_count": 16,
   "metadata": {},
   "outputs": [],
   "source": [
    "from dotenv import load_dotenv\n",
    "from openai import OpenAI\n",
    "from pinecone import Pinecone\n",
    "\n",
    "load_dotenv()\n",
    "client = OpenAI() # api_key=\n",
    "\n",
    "pc = Pinecone() # api_key=\n",
    "index = pc.Index(\"ta\")"
   ]
  },
  {
   "cell_type": "markdown",
   "metadata": {},
   "source": [
    "Extract texts from the key frames."
   ]
  },
  {
   "cell_type": "code",
   "execution_count": 8,
   "metadata": {},
   "outputs": [],
   "source": [
    "import json\n",
    "import os\n",
    "import cv2\n",
    "import os\n",
    "import pytesseract\n",
    "from PIL import Image\n",
    "import datetime\n",
    "\n",
    "pytesseract.pytesseract.tesseract_cmd = r'C:\\Program Files\\Tesseract-OCR\\tesseract.exe'\n",
    "\n",
    "def extract_text_from_image(image_path):\n",
    "    with Image.open(image_path) as img:\n",
    "        text = pytesseract.image_to_string(img)\n",
    "        return text\n",
    "\n",
    "def get_subdirectories(folder_path):\n",
    "    # 获取指定文件夹下的所有文件和文件夹\n",
    "    entries = os.listdir(folder_path)\n",
    "    # 筛选出所有文件夹名\n",
    "    subdirectories = [entry for entry in entries if os.path.isdir(os.path.join(folder_path, entry))]\n",
    "    return subdirectories\n",
    "\n",
    "frame_texts={}\n",
    "\n",
    "root_path='./key_frames'\n",
    "folders=get_subdirectories(root_path)\n",
    "for folder in folders:\n",
    "    image_texts={}\n",
    "    folder_path=root_path+'/'+folder\n",
    "    for image in os.listdir(folder_path):\n",
    "        image_path=folder_path+'/'+image\n",
    "\n",
    "        # Extract text from the frame\n",
    "        text = extract_text_from_image(image_path)\n",
    "        if text:\n",
    "            time=':'.join(image[:-4].split('_')[1:])\n",
    "            image_texts[time]=text\n",
    "        \n",
    "    frame_texts[folder]=image_texts\n",
    "\n",
    "with open('key_frame_text.json', \"w\") as json_file:\n",
    "    json.dump(frame_texts, json_file)      "
   ]
  },
  {
   "cell_type": "markdown",
   "metadata": {},
   "source": [
    "Read the above file, and the YouTube video info file, combine them to a complete YouTube info file with frame time and texts."
   ]
  },
  {
   "cell_type": "code",
   "execution_count": 11,
   "metadata": {},
   "outputs": [],
   "source": [
    "import json\n",
    "with open('./key_frame_text.json', \"r\") as json_file:\n",
    "    video_frames = json.load(json_file)\n",
    "with open('./YouTube_video_info.json', \"r\") as json_file:\n",
    "    video_infos = json.load(json_file)\n",
    "\n",
    "video_info_with_frames={}\n",
    "for video_name, video_info in video_infos.items():\n",
    "    name=video_name.replace(\"'\",'')+'.mp4'\n",
    "    if name not in video_frames:\n",
    "        print(f'name is not a key in key_frame_text.json')\n",
    "    video_info_with_frames[name]=video_info\n",
    "    video_info_with_frames[name]['frames']=video_frames[name]\n",
    "with open('YouTube_video_info_frames.json', \"w\") as json_file:\n",
    "    json.dump(video_info_with_frames, json_file) "
   ]
  },
  {
   "cell_type": "markdown",
   "metadata": {},
   "source": [
    "Delete the unused video data in Pinecone, then do the embedding and upsert vectors into Pinecone."
   ]
  },
  {
   "cell_type": "code",
   "execution_count": null,
   "metadata": {},
   "outputs": [],
   "source": [
    "index.delete(delete_all=True, namespace='video_data')"
   ]
  },
  {
   "cell_type": "code",
   "execution_count": 18,
   "metadata": {},
   "outputs": [],
   "source": [
    "import json\n",
    "with open('./YouTube_video_info_frames.json', \"r\") as json_file:\n",
    "    video_info_frames = json.load(json_file)\n",
    "\n",
    "for file_name, info in video_info_frames.items():\n",
    "    link=info['link']\n",
    "    id=info['id']\n",
    "    frames=info['frames']\n",
    "\n",
    "    for time_s, frame_content in frames.items():\n",
    "        res = client.embeddings.create(input=[frame_content], model=\"text-embedding-3-small\")\n",
    "        vector=res.data[0].embedding\n",
    "        index.upsert(\n",
    "            vectors=[\n",
    "                {\n",
    "                \"id\": f\"Video-{file_name}-{time_s}\", \n",
    "                \"values\": vector, \n",
    "                \"metadata\": {\"video_id\": id,\"link\": link, \"file_name\": file_name, \"time\": time_s}\n",
    "                }\n",
    "            ],\n",
    "            namespace='video_data')"
   ]
  }
 ],
 "metadata": {
  "kernelspec": {
   "display_name": "common",
   "language": "python",
   "name": "python3"
  },
  "language_info": {
   "codemirror_mode": {
    "name": "ipython",
    "version": 3
   },
   "file_extension": ".py",
   "mimetype": "text/x-python",
   "name": "python",
   "nbconvert_exporter": "python",
   "pygments_lexer": "ipython3",
   "version": "3.11.4"
  }
 },
 "nbformat": 4,
 "nbformat_minor": 2
}
