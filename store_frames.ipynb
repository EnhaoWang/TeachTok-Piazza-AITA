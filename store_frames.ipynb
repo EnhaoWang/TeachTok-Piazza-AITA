{
 "cells": [
  {
   "cell_type": "markdown",
   "metadata": {},
   "source": [
    "## This file is the first version of processing video frames, and it's deprecated. See store_frames_new.ipynb"
   ]
  },
  {
   "cell_type": "code",
   "execution_count": null,
   "metadata": {},
   "outputs": [],
   "source": [
    "from dotenv import load_dotenv\n",
    "from openai import OpenAI\n",
    "from pinecone import Pinecone\n",
    "\n",
    "load_dotenv()\n",
    "client = OpenAI() # api_key=\n",
    "\n",
    "pc = Pinecone() # api_key=\n",
    "index = pc.Index(\"ta\")"
   ]
  },
  {
   "cell_type": "markdown",
   "metadata": {},
   "source": [
    "Capture the frame for each 10 secondes. For each frame, use OCR to recognize the text and save them in a json file."
   ]
  },
  {
   "cell_type": "code",
   "execution_count": 3,
   "metadata": {},
   "outputs": [],
   "source": [
    "import json\n",
    "import os\n",
    "import cv2\n",
    "import os\n",
    "import pytesseract\n",
    "from PIL import Image\n",
    "import datetime\n",
    "\n",
    "pytesseract.pytesseract.tesseract_cmd = r'C:\\Program Files\\Tesseract-OCR\\tesseract.exe'\n",
    "\n",
    "def extract_text_from_image(image):\n",
    "    image_pil = Image.fromarray(image)\n",
    "    text = pytesseract.image_to_string(image_pil)\n",
    "    \n",
    "    return text\n",
    "\n",
    "videos=[]\n",
    "folder_path='./videos'\n",
    "files=os.listdir(folder_path)\n",
    "\n",
    "frame_texts={}\n",
    "for file in files[:17]: \n",
    "    frame_text={}\n",
    "    path=folder_path+'/'+file\n",
    "    # Open the video file\n",
    "    video = cv2.VideoCapture(path)\n",
    "\n",
    "    # Get the total number of frames in the video\n",
    "    # total_frames = min(int(video.get(cv2.CAP_PROP_FRAME_COUNT)),100)\n",
    "    total_frames = int(video.get(cv2.CAP_PROP_FRAME_COUNT))\n",
    "\n",
    "    # Calculate the interval between frames (every 10 seconds)\n",
    "    frame_interval_sec = 10\n",
    "    frame_rate = video.get(cv2.CAP_PROP_FPS)\n",
    "    frame_interval = int(frame_interval_sec * frame_rate)\n",
    "\n",
    "    # Set the current frame to the first frame in the video\n",
    "    current_frame = 0\n",
    "\n",
    "    # Loop through the frames and extract frames at the desired interval\n",
    "    for i in range(total_frames):\n",
    "        # Set the video's current frame to the desired frame\n",
    "        video.set(cv2.CAP_PROP_POS_FRAMES, current_frame)\n",
    "        \n",
    "        # Read the frame\n",
    "        ret, frame = video.read()\n",
    "        \n",
    "        if frame is None:\n",
    "            break\n",
    "\n",
    "        # Extract text from the frame\n",
    "        text = extract_text_from_image(frame)\n",
    "        if text:\n",
    "            # Get the timestamp of the frame\n",
    "            timestamp_ms = video.get(cv2.CAP_PROP_POS_MSEC)\n",
    "            timestamp_sec = timestamp_ms / 1000.0\n",
    "            timestamp_str = str(datetime.timedelta(seconds=timestamp_sec)).split('.')[0]#.replace(':', '_')\n",
    "            \n",
    "            # Save the frame to filematch_test/\n",
    "            # file_name = f'./frame_{i}_{timestamp_str}'\n",
    "            # cv2.imwrite(file_name+'.jpg', frame)\n",
    "            frame_text[timestamp_str]=text\n",
    "\n",
    "        # Move to the next frame according to the interval\n",
    "        current_frame += frame_interval\n",
    "    \n",
    "    frame_texts[file]=frame_text\n",
    "\n",
    "    # Release the video file\n",
    "    video.release()\n",
    "\n",
    "with open('frame_text.json', \"w\") as json_file:\n",
    "    json.dump(frame_texts, json_file)      "
   ]
  },
  {
   "cell_type": "markdown",
   "metadata": {},
   "source": [
    "Read the above json file and do the embedding, upsert the vectors into Pinecone."
   ]
  },
  {
   "cell_type": "code",
   "execution_count": 13,
   "metadata": {},
   "outputs": [],
   "source": [
    "import json\n",
    "with open('./frame_text.json', \"r\") as json_file:\n",
    "    frames = json.load(json_file)\n",
    "\n",
    "for file_name, frame in frames.items():\n",
    "    for time_s, frame_content in frame.items():\n",
    "        res = client.embeddings.create(input=[frame_content], model=\"text-embedding-3-small\")\n",
    "        vector=res.data[0].embedding\n",
    "        index.upsert(\n",
    "            vectors=[\n",
    "                {\n",
    "                \"id\": f\"Video-{file_name.replace('【','').replace('】 ','-')}-{time_s}\", \n",
    "                \"values\": vector, \n",
    "                \"metadata\": {\"file_name\": f\"{file_name}\", \"time\": time_s}\n",
    "                }\n",
    "            ],\n",
    "            namespace='video_data')"
   ]
  }
 ],
 "metadata": {
  "kernelspec": {
   "display_name": "common",
   "language": "python",
   "name": "python3"
  },
  "language_info": {
   "codemirror_mode": {
    "name": "ipython",
    "version": 3
   },
   "file_extension": ".py",
   "mimetype": "text/x-python",
   "name": "python",
   "nbconvert_exporter": "python",
   "pygments_lexer": "ipython3",
   "version": "3.11.4"
  }
 },
 "nbformat": 4,
 "nbformat_minor": 2
}
