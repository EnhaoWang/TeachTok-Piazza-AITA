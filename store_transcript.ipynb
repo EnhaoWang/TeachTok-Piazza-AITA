{
 "cells": [
  {
   "cell_type": "markdown",
   "metadata": {},
   "source": [
    "## This file handles subtitle(transcript)(.src) file. \n",
    "## It's used in abondoned data, so it's deprecated. See store_transcript_new.ipynb."
   ]
  },
  {
   "cell_type": "code",
   "execution_count": 4,
   "metadata": {},
   "outputs": [],
   "source": [
    "from dotenv import load_dotenv\n",
    "from openai import OpenAI\n",
    "from pinecone import Pinecone\n",
    "\n",
    "load_dotenv()\n",
    "client = OpenAI() # api_key=\n",
    "\n",
    "pc = Pinecone() # api_key=\n",
    "index = pc.Index(\"ta\")"
   ]
  },
  {
   "cell_type": "markdown",
   "metadata": {},
   "source": [
    "Extract text from transcript files(.src) and clean the content."
   ]
  },
  {
   "cell_type": "code",
   "execution_count": 6,
   "metadata": {},
   "outputs": [],
   "source": [
    "import re\n",
    "import os\n",
    "\n",
    "def clean_srt_content(file_path):\n",
    "    \"\"\"\n",
    "    Reads an SRT file, removes numeric identifiers and timestamps,\n",
    "    and returns only the transcript text.\n",
    "    \n",
    "    :param file_path: Path to the SRT file\n",
    "    :return: Cleaned transcript text\n",
    "    \"\"\"\n",
    "    # Read the content of the SRT file\n",
    "    with open(file_path, 'r', encoding='utf-8') as file:\n",
    "        content = file.read()\n",
    "\n",
    "    # Remove numeric identifiers and timestamps\n",
    "    cleaned_content = re.sub(r'\\d+\\n\\d{2}:\\d{2}:\\d{2},\\d{3} --> \\d{2}:\\d{2}:\\d{2},\\d{3}\\n', '', content)\n",
    "    \n",
    "    # Remove residual newlines and return the cleaned text\n",
    "    cleaned_content = re.sub(r'\\n+', '\\n', cleaned_content).strip()\n",
    "\n",
    "    return cleaned_content\n",
    "\n",
    "folder_path='./subtitles'\n",
    "files=os.listdir(folder_path)\n",
    "trans_texts={}\n",
    "for file in files: \n",
    "    path=folder_path+'/'+file\n",
    "    trans_text=clean_srt_content(path)\n",
    "    trans_texts[file]=trans_text"
   ]
  },
  {
   "cell_type": "markdown",
   "metadata": {},
   "source": [
    "Split the text into chunks and do the embedding for chunks, lastly store the vectors in Pinecone."
   ]
  },
  {
   "cell_type": "code",
   "execution_count": 8,
   "metadata": {},
   "outputs": [],
   "source": [
    "from langchain_text_splitters import RecursiveCharacterTextSplitter\n",
    "\n",
    "text_splitter = RecursiveCharacterTextSplitter(\n",
    "    # Set a really small chunk size, just to show.\n",
    "    chunk_size=1000,\n",
    "    chunk_overlap=20,\n",
    "    length_function=len,\n",
    "    is_separator_regex=False,\n",
    ")\n",
    "\n",
    "trans_chunks={}\n",
    "for file_name, trans_text in trans_texts.items():\n",
    "    trans_chunks[file_name]=text_splitter.split_text(trans_text)"
   ]
  },
  {
   "cell_type": "code",
   "execution_count": 10,
   "metadata": {},
   "outputs": [],
   "source": [
    "from langchain_pinecone import PineconeVectorStore\n",
    "from langchain_openai import OpenAIEmbeddings\n",
    "embeddings = OpenAIEmbeddings()\n",
    "index_name = \"ta\"\n",
    "for file_name, trans_chunk in trans_chunks.items():\n",
    "    docsearch = PineconeVectorStore.from_texts(trans_chunk, embeddings, index_name=index_name, namespace='transcript_data', metadatas=[{'file_name': file_name} for _ in trans_chunk])"
   ]
  }
 ],
 "metadata": {
  "kernelspec": {
   "display_name": "common",
   "language": "python",
   "name": "python3"
  },
  "language_info": {
   "codemirror_mode": {
    "name": "ipython",
    "version": 3
   },
   "file_extension": ".py",
   "mimetype": "text/x-python",
   "name": "python",
   "nbconvert_exporter": "python",
   "pygments_lexer": "ipython3",
   "version": "3.11.4"
  }
 },
 "nbformat": 4,
 "nbformat_minor": 2
}
