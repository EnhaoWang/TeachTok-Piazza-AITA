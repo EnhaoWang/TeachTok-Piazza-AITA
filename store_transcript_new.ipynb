{
 "cells": [
  {
   "cell_type": "code",
   "execution_count": null,
   "metadata": {},
   "outputs": [],
   "source": [
    "from dotenv import load_dotenv\n",
    "from openai import OpenAI\n",
    "from pinecone import Pinecone\n",
    "\n",
    "load_dotenv()\n",
    "client = OpenAI() # api_key=\n",
    "\n",
    "pc = Pinecone() # api_key=\n",
    "index = pc.Index(\"ta\")"
   ]
  },
  {
   "cell_type": "markdown",
   "metadata": {},
   "source": [
    "Extract text content from transcript files(.txt)."
   ]
  },
  {
   "cell_type": "code",
   "execution_count": 2,
   "metadata": {},
   "outputs": [],
   "source": [
    "import os\n",
    "def txt_text(txt_file):\n",
    "    text = \"\"\n",
    "    with open(txt_file, 'r') as file:\n",
    "        for line in file.readlines():\n",
    "            if line != '\\n':\n",
    "                text += line\n",
    "    return text\n",
    "\n",
    "folder_path='./transcript'\n",
    "files=os.listdir(folder_path)\n",
    "trans_texts={}\n",
    "for file in files: \n",
    "    path=folder_path+'/'+file\n",
    "    trans_text=txt_text(path)\n",
    "    trans_texts[file]=trans_text"
   ]
  },
  {
   "cell_type": "markdown",
   "metadata": {},
   "source": [
    "Split the text into chunks and do the embedding for chunks, lastly store the vectors in Pinecone."
   ]
  },
  {
   "cell_type": "code",
   "execution_count": 3,
   "metadata": {},
   "outputs": [],
   "source": [
    "from langchain_text_splitters import RecursiveCharacterTextSplitter\n",
    "\n",
    "text_splitter = RecursiveCharacterTextSplitter(\n",
    "    # Set a really small chunk size, just to show.\n",
    "    chunk_size=500,\n",
    "    chunk_overlap=20,\n",
    "    length_function=len,\n",
    "    is_separator_regex=False,\n",
    ")\n",
    "\n",
    "text_chunks={}\n",
    "for file_name, trans_text in trans_texts.items():\n",
    "    text_chunks[file_name]=text_splitter.split_text(trans_text)"
   ]
  },
  {
   "cell_type": "code",
   "execution_count": 4,
   "metadata": {},
   "outputs": [],
   "source": [
    "from langchain_pinecone import PineconeVectorStore\n",
    "from langchain_openai import OpenAIEmbeddings\n",
    "embeddings = OpenAIEmbeddings()\n",
    "index_name = \"ta\"\n",
    "for file_name, text_chunk in text_chunks.items():\n",
    "    docsearch = PineconeVectorStore.from_texts(text_chunk, embeddings, index_name=index_name, namespace='transcript_data', metadatas=[{'file_name': file_name} for _ in text_chunk])"
   ]
  },
  {
   "cell_type": "code",
   "execution_count": 5,
   "metadata": {},
   "outputs": [],
   "source": [
    "#index.delete(delete_all=True, namespace='transcript_data')"
   ]
  }
 ],
 "metadata": {
  "kernelspec": {
   "display_name": "common",
   "language": "python",
   "name": "python3"
  },
  "language_info": {
   "codemirror_mode": {
    "name": "ipython",
    "version": 3
   },
   "file_extension": ".py",
   "mimetype": "text/x-python",
   "name": "python",
   "nbconvert_exporter": "python",
   "pygments_lexer": "ipython3",
   "version": "3.11.4"
  }
 },
 "nbformat": 4,
 "nbformat_minor": 2
}
