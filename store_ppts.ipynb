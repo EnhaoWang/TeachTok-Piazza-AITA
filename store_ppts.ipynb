{
 "cells": [
  {
   "cell_type": "markdown",
   "metadata": {},
   "source": [
    "## Store the text content of PPT pages in Pinecone"
   ]
  },
  {
   "cell_type": "markdown",
   "metadata": {},
   "source": [
    "Initialize Pinecone and OpenAI with API key."
   ]
  },
  {
   "cell_type": "code",
   "execution_count": null,
   "metadata": {},
   "outputs": [],
   "source": [
    "from dotenv import load_dotenv\n",
    "from openai import OpenAI\n",
    "from pinecone import Pinecone\n",
    "\n",
    "load_dotenv()\n",
    "client = OpenAI() # api_key=\n",
    "\n",
    "pc = Pinecone() # api_key=\n",
    "index = pc.Index(\"ta\")\n"
   ]
  },
  {
   "cell_type": "markdown",
   "metadata": {},
   "source": [
    "Read the text in each page in each PPT file, then save the text content of all PPT pages into a .json file."
   ]
  },
  {
   "cell_type": "code",
   "execution_count": null,
   "metadata": {},
   "outputs": [],
   "source": [
    "from pptx import Presentation\n",
    "import json\n",
    "\n",
    "def extract_text_from_ppt(ppt_path):\n",
    "    ppt_pages = {}\n",
    "    prs = Presentation(ppt_path)\n",
    "    for idx, slide in enumerate(prs.slides):\n",
    "        page_content=''\n",
    "        for shape in slide.shapes:\n",
    "            if hasattr(shape, \"text\"):\n",
    "                page_content+=shape.text.replace(\"\\x0b\", \"\")\n",
    "        ppt_pages[idx+1]=page_content\n",
    "    return ppt_pages\n",
    "\n",
    "folder_path='./slides_PPT'\n",
    "files=os.listdir(folder_path)\n",
    "ppts={}\n",
    "for file in files: \n",
    "    path=folder_path+'/'+file\n",
    "    ppts[file]=extract_text_from_ppt(path)\n",
    "\n",
    "with open('ppt_text.json', \"w\") as json_file:\n",
    "    json.dump(ppts, json_file)"
   ]
  },
  {
   "cell_type": "markdown",
   "metadata": {},
   "source": [
    "For the text content in each page, do embedding and store the vector in the Pinecone vector database."
   ]
  },
  {
   "cell_type": "code",
   "execution_count": null,
   "metadata": {},
   "outputs": [],
   "source": [
    "import json\n",
    "with open('./ppt_text.json', \"r\") as json_file:\n",
    "    ppts = json.load(json_file)\n",
    "\n",
    "for file_name, ppt_pages in ppts.items():\n",
    "    for page_num, page_content in ppt_pages.items():\n",
    "        res = client.embeddings.create(input=[page_content], model=\"text-embedding-3-small\")\n",
    "        vector=res.data[0].embedding\n",
    "        index.upsert(\n",
    "            vectors=[\n",
    "                {\n",
    "                \"id\": f\"PPT-{file_name}-{page_num}\", \n",
    "                \"values\": vector, \n",
    "                \"metadata\": {\"file_name\": f\"{file_name}\", \"page_num\": page_num}\n",
    "                }\n",
    "            ],\n",
    "            namespace='ppt_data')"
   ]
  },
  {
   "cell_type": "markdown",
   "metadata": {},
   "source": [
    "## Generate PPT page images and save them locally."
   ]
  },
  {
   "cell_type": "code",
   "execution_count": 1,
   "metadata": {},
   "outputs": [],
   "source": [
    "import fitz  # PyMuPDF\n",
    "import os\n",
    "\n",
    "def save_pdf_as_images(pdf_path, output_path):\n",
    "    pdf_document = fitz.open(pdf_path)\n",
    "    num_pages = len(pdf_document)\n",
    "    for page_number in range(num_pages):\n",
    "        output_image_path = os.path.join(output_path, f\"page_{page_number + 1}.png\")\n",
    "        page = pdf_document.load_page(page_number)  \n",
    "\n",
    "        dpi = 100  \n",
    "        zoom_x = dpi / 72\n",
    "        zoom_y = dpi / 72\n",
    "\n",
    "        mat = fitz.Matrix(zoom_x, zoom_y)\n",
    "        pix = page.get_pixmap(matrix=mat)\n",
    "\n",
    "        pix.save(output_image_path)\n",
    "\n",
    "    pdf_document.close()"
   ]
  },
  {
   "cell_type": "code",
   "execution_count": 2,
   "metadata": {},
   "outputs": [
    {
     "name": "stdout",
     "output_type": "stream",
     "text": [
      "ch01-intro.pdf finished!\n",
      "ch02-mapreduce.pdf finished!\n",
      "ch03-lsh.pdf finished!\n",
      "ch04-streams1.pdf finished!\n",
      "ch04-streams2.pdf finished!\n",
      "ch05-linkanalysis1.pdf finished!\n",
      "ch05-linkanalysis2.pdf finished!\n",
      "ch06-assocrules.pdf finished!\n",
      "ch07-clustering.pdf finished!\n",
      "ch08-advertising.pdf finished!\n",
      "ch09-recsys1.pdf finished!\n",
      "ch09-recsys2.pdf finished!\n",
      "ch10-graphs1.pdf finished!\n",
      "ch10-graphs2.pdf finished!\n",
      "ch11-dimred.pdf finished!\n",
      "ch12-ml1.pdf finished!\n",
      "ch12-ml2.pdf finished!\n"
     ]
    }
   ],
   "source": [
    "pdf_path='./slides_PDF/'\n",
    "for pdf_file in os.listdir(pdf_path):\n",
    "    output_path='./slides_image/'+pdf_file.replace('pdf', 'pptx')\n",
    "    if not os.path.exists(output_path):\n",
    "        os.makedirs(output_path)\n",
    "    save_pdf_as_images(pdf_path+pdf_file, output_path)\n",
    "    print(f'{pdf_file} finished!')"
   ]
  }
 ],
 "metadata": {
  "kernelspec": {
   "display_name": "common",
   "language": "python",
   "name": "python3"
  },
  "language_info": {
   "codemirror_mode": {
    "name": "ipython",
    "version": 3
   },
   "file_extension": ".py",
   "mimetype": "text/x-python",
   "name": "python",
   "nbconvert_exporter": "python",
   "pygments_lexer": "ipython3",
   "version": "3.11.4"
  }
 },
 "nbformat": 4,
 "nbformat_minor": 2
}
