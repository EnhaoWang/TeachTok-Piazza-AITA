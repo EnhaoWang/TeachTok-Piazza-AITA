{
 "cells": [
  {
   "cell_type": "markdown",
   "metadata": {},
   "source": [
    "## 1. Fetch the data from the first source, but these data might be abandoned."
   ]
  },
  {
   "cell_type": "markdown",
   "metadata": {},
   "source": [
    "Download videos from a playlist. The 14th link fails with some error from YouTube."
   ]
  },
  {
   "cell_type": "code",
   "execution_count": null,
   "metadata": {},
   "outputs": [],
   "source": [
    "from pytube import YouTube, Playlist\n",
    "\n",
    "playlist_url = 'https://www.youtube.com/playlist?list=PLoCMsyE1cvdVnCgHk43vRy7PVTVWJ6WVR'\n",
    "\n",
    "playlist = Playlist(playlist_url)\n",
    "\n",
    "video_urls = playlist.video_urls\n",
    "\n",
    "for video_url in list(video_urls)[13:14]:\n",
    "\n",
    "    url = video_url\n",
    "\n",
    "    yt = YouTube(url)\n",
    "\n",
    "    streams = yt.streams\n",
    "    streams.get_highest_resolution().download()"
   ]
  },
  {
   "cell_type": "markdown",
   "metadata": {},
   "source": [
    "Download the textbook and PPTs."
   ]
  },
  {
   "cell_type": "code",
   "execution_count": null,
   "metadata": {},
   "outputs": [],
   "source": [
    "from bs4 import BeautifulSoup\n",
    "import requests\n",
    "import os\n",
    "\n",
    "url = \"http://www.mmds.org/\"\n",
    "response = requests.get(url)\n",
    "soup = BeautifulSoup(response.text, 'html.parser')\n",
    "\n",
    "table = soup.find('table')\n",
    "\n",
    "links = table.find_all('a', text=[\"PPT\", \"PDF\", \"HTML\"])\n",
    "\n",
    "for link in links:\n",
    "    if link['href'][:4] == 'http':\n",
    "        path = './textbook'\n",
    "        file_link = link['href']\n",
    "    else:\n",
    "        if link['href'][-3:] == 'pdf':\n",
    "            path = './slides_PDF'\n",
    "        else:\n",
    "            path = './slides_PPT'\n",
    "        file_link = 'http://www.mmds.org/' + link['href'][1:]\n",
    "        \n",
    "    file = requests.get(file_link)\n",
    "    \n",
    "    file_name = os.path.basename(file_link)\n",
    "    \n",
    "    file_path = os.path.join(path, file_name)\n",
    "    \n",
    "    folder_path = os.path.dirname(file_path)\n",
    "    if not os.path.exists(folder_path):\n",
    "        os.makedirs(folder_path)\n",
    "\n",
    "    with open(file_path, 'wb') as f:\n",
    "        f.write(file.content)"
   ]
  },
  {
   "cell_type": "markdown",
   "metadata": {},
   "source": [
    "Use downsub.com to download the subtitles(.srt file) of YouTube videos above."
   ]
  },
  {
   "cell_type": "code",
   "execution_count": null,
   "metadata": {},
   "outputs": [],
   "source": [
    "from pytube import YouTube, Playlist\n",
    "from selenium import webdriver\n",
    "from selenium.webdriver.common.by import By\n",
    "from selenium.webdriver.support.select import Select\n",
    "from selenium.webdriver.common.action_chains import ActionChains\n",
    "from selenium.webdriver.support.ui import WebDriverWait\n",
    "from selenium.webdriver.support import expected_conditions as EC\n",
    "from selenium.webdriver.chrome.options import Options\n",
    "from selenium.webdriver.common.keys import Keys\n",
    "import time\n",
    "\n",
    "playlist_url = 'https://www.youtube.com/playlist?list=PLoCMsyE1cvdVnCgHk43vRy7PVTVWJ6WVR'\n",
    "\n",
    "playlist = Playlist(playlist_url)\n",
    "\n",
    "video_urls = playlist.video_urls\n",
    "\n",
    "driver = webdriver.Chrome()\n",
    "driver.maximize_window() \n",
    "\n",
    "driver.get(\"https://downsub.com/\")\n",
    "\n",
    "for video_url in list(video_urls):\n",
    "\n",
    "    input_blk = driver.find_element(By.XPATH, '/html/body/div[1]/div/main/div/div[1]/div/div[2]/form/div/div[1]/div[1]/div[1]/input')#//*[@id=\"input-34\"]\n",
    "    for i in range(10):\n",
    "        input_blk.send_keys(Keys.CONTROL, \"a\")\n",
    "        input_blk.send_keys(Keys.DELETE)\n",
    "        time.sleep(0.1)\n",
    "    input_blk.send_keys(video_url)\n",
    "    time.sleep(2)\n",
    "    \n",
    "    submit_button = driver.find_element(By.XPATH, '//*[@id=\"app\"]/div/main/div/div[1]/div/div[2]/form/div/div[2]/button/span')\n",
    "    submit_button.click()\n",
    "    time.sleep(10)\n",
    "\n",
    "    download_button = driver.find_element(By.XPATH, '//*[@id=\"app\"]/div/main/div/div[2]/div/div[1]/div[1]/div[2]/div[1]/button[1]/span/button/span')\n",
    "    download_button.click()\n",
    "    time.sleep(2)\n",
    "\n",
    "driver.quit()"
   ]
  },
  {
   "cell_type": "markdown",
   "metadata": {},
   "source": [
    "## 2. Fetch the data from the second source, http://www.mmds.org/."
   ]
  },
  {
   "cell_type": "markdown",
   "metadata": {},
   "source": [
    "Get the YouTube video links from course catalog webpage."
   ]
  },
  {
   "cell_type": "code",
   "execution_count": 1,
   "metadata": {},
   "outputs": [],
   "source": [
    "from bs4 import BeautifulSoup\n",
    "import requests\n",
    "import os\n",
    "\n",
    "url = \"http://www.mmds.org/\"\n",
    "response = requests.get(url)\n",
    "soup = BeautifulSoup(response.text, 'html.parser')\n",
    "\n",
    "table = soup.find('table')\n",
    "\n",
    "a_tags = table.find_all('a')\n",
    "\n",
    "yt_links=[]\n",
    "for a_tag in a_tags:\n",
    "    if a_tag.text not in [\"PPT\", \"PDF\", \"HTML\", \"\"]:\n",
    "        yt_links.append(a_tag['href'])"
   ]
  },
  {
   "cell_type": "markdown",
   "metadata": {},
   "source": [
    "The fetched YouTube links has an error, which might be a mistake when creating the hyperlink in www.mmds.org.\\\n",
    "The 25th and the 81th element in yt_links are the same. Replace it with the right video link."
   ]
  },
  {
   "cell_type": "code",
   "execution_count": 2,
   "metadata": {},
   "outputs": [],
   "source": [
    "yt_links[24]='https://www.youtube.com/watch?v=_YxHZ74QImo'"
   ]
  },
  {
   "cell_type": "markdown",
   "metadata": {},
   "source": [
    "Download the YouTube videos from the fetched links."
   ]
  },
  {
   "cell_type": "code",
   "execution_count": 16,
   "metadata": {},
   "outputs": [],
   "source": [
    "from pytube import YouTube, Playlist\n",
    "\n",
    "fail_list=[]\n",
    "for video_url in yt_links:\n",
    "    try:\n",
    "        yt = YouTube(video_url)\n",
    "        streams = yt.streams\n",
    "        streams.get_highest_resolution().download()\n",
    "    except:\n",
    "        fail_list.append(video_url)"
   ]
  },
  {
   "cell_type": "markdown",
   "metadata": {},
   "source": [
    "Save the YouTube video link, id, title(video file name) for later use."
   ]
  },
  {
   "cell_type": "code",
   "execution_count": 15,
   "metadata": {},
   "outputs": [],
   "source": [
    "from pytube import YouTube, Playlist\n",
    "\n",
    "fail_list=[]\n",
    "video_info={}\n",
    "for video_url in yt_links:\n",
    "    try:\n",
    "        yt = YouTube(video_url)\n",
    "        video_info[yt.title]={'link':video_url, 'id':yt.video_id}\n",
    "    except:\n",
    "        fail_list.append(video_url)"
   ]
  },
  {
   "cell_type": "code",
   "execution_count": 18,
   "metadata": {},
   "outputs": [],
   "source": [
    "import json\n",
    "with open('YouTube_video_info.json', \"w\") as json_file:\n",
    "    json.dump(video_info, json_file) "
   ]
  },
  {
   "cell_type": "markdown",
   "metadata": {},
   "source": [
    "Use downsub.com to download the subtitles(.srt file) of YouTube videos above."
   ]
  },
  {
   "cell_type": "code",
   "execution_count": null,
   "metadata": {},
   "outputs": [],
   "source": [
    "from pytube import YouTube, Playlist\n",
    "from selenium import webdriver\n",
    "from selenium.webdriver.common.by import By\n",
    "from selenium.webdriver.support.select import Select\n",
    "from selenium.webdriver.common.action_chains import ActionChains\n",
    "from selenium.webdriver.support.ui import WebDriverWait\n",
    "from selenium.webdriver.support import expected_conditions as EC\n",
    "from selenium.webdriver.chrome.options import Options\n",
    "from selenium.webdriver.common.keys import Keys\n",
    "import time\n",
    "\n",
    "driver = webdriver.Chrome()\n",
    "driver.maximize_window() \n",
    "\n",
    "driver.get(\"https://downsub.com/\")\n",
    "\n",
    "for video_url in yt_links:\n",
    "\n",
    "    input_blk = driver.find_element(By.XPATH, '/html/body/div[1]/div/main/div/div[1]/div/div[2]/form/div/div[1]/div[1]/div[1]/input')#//*[@id=\"input-34\"]\n",
    "    for i in range(10):\n",
    "        input_blk.send_keys(Keys.CONTROL, \"a\")\n",
    "        input_blk.send_keys(Keys.DELETE)\n",
    "        time.sleep(0.1)\n",
    "    input_blk.send_keys(video_url)\n",
    "    time.sleep(2)\n",
    "    \n",
    "    submit_button = driver.find_element(By.XPATH, '//*[@id=\"app\"]/div/main/div/div[1]/div/div[2]/form/div/div[2]/button/span')\n",
    "    submit_button.click()\n",
    "    time.sleep(10)\n",
    "\n",
    "    download_button = driver.find_element(By.XPATH, '//*[@id=\"app\"]/div/main/div/div[2]/div/div[1]/div[1]/div[2]/div[1]/button[1]/span/button/span')\n",
    "    download_button.click()\n",
    "    time.sleep(2)\n",
    "\n",
    "driver.quit()"
   ]
  }
 ],
 "metadata": {
  "kernelspec": {
   "display_name": "common",
   "language": "python",
   "name": "python3"
  },
  "language_info": {
   "codemirror_mode": {
    "name": "ipython",
    "version": 3
   },
   "file_extension": ".py",
   "mimetype": "text/x-python",
   "name": "python",
   "nbconvert_exporter": "python",
   "pygments_lexer": "ipython3",
   "version": "3.11.4"
  }
 },
 "nbformat": 4,
 "nbformat_minor": 2
}
